{
 "cells": [
  {
   "cell_type": "markdown",
   "metadata": {
    "collapsed": true
   },
   "source": [
    "# Predicting Bike Rentals"
   ]
  },
  {
   "cell_type": "code",
   "execution_count": 1,
   "metadata": {
    "collapsed": true
   },
   "outputs": [],
   "source": [
    "#importing various packages\n",
    "from sklearn.model_selection import cross_val_score, KFold\n",
    "from sklearn.neighbors import KNeighborsRegressor\n",
    "from sklearn.linear_model import LinearRegression\n",
    "from sklearn.ensemble import RandomForestRegressor\n",
    "from sklearn.tree import DecisionTreeRegressor\n",
    "from sklearn.metrics import mean_squared_error, r2_score\n",
    "from sklearn.preprocessing import StandardScaler\n",
    "\n",
    "import numpy as np\n",
    "import pandas as pd\n",
    "import matplotlib.pyplot as plt\n",
    "%matplotlib inline\n",
    "\n",
    "#suppress displaying long numbers in scientific notation\n",
    "pd.set_option('display.float_format', lambda x: '%.2f' % x) "
   ]
  },
  {
   "cell_type": "code",
   "execution_count": 2,
   "metadata": {},
   "outputs": [
    {
     "name": "stdout",
     "output_type": "stream",
     "text": [
      "   instant      dteday  season  yr  mnth  hr  holiday  weekday  workingday  \\\n",
      "0        1  2011-01-01       1   0     1   0        0        6           0   \n",
      "1        2  2011-01-01       1   0     1   1        0        6           0   \n",
      "2        3  2011-01-01       1   0     1   2        0        6           0   \n",
      "3        4  2011-01-01       1   0     1   3        0        6           0   \n",
      "4        5  2011-01-01       1   0     1   4        0        6           0   \n",
      "\n",
      "   weathersit  temp  atemp  hum  windspeed  casual  registered  cnt  \n",
      "0           1  0.24   0.29 0.81       0.00       3          13   16  \n",
      "1           1  0.22   0.27 0.80       0.00       8          32   40  \n",
      "2           1  0.22   0.27 0.80       0.00       5          27   32  \n",
      "3           1  0.24   0.29 0.75       0.00       3          10   13  \n",
      "4           1  0.24   0.29 0.75       0.00       0           1    1  \n"
     ]
    }
   ],
   "source": [
    "#read in the data\n",
    "bike_rentals = pd.read_csv('bike_rental_hour.csv')\n",
    "\n",
    "print(bike_rentals.head())\n",
    "\n",
    "#cnt is the total number of bike rentals, casual + registered"
   ]
  },
  {
   "cell_type": "markdown",
   "metadata": {},
   "source": [
    "## Correlations"
   ]
  },
  {
   "cell_type": "code",
   "execution_count": 3,
   "metadata": {},
   "outputs": [
    {
     "data": {
      "image/png": "[encoded data removed]",
      "text/plain": [
       "<matplotlib.figure.Figure at 0x7fe777b97c18>"
      ]
     },
     "metadata": {},
     "output_type": "display_data"
    }
   ],
   "source": [
    "#produce a histogram of the cnt column to show distribution of total rentals\n",
    "plt.hist(bike_rentals.cnt, bins=15)\n",
    "plt.show()"
   ]
  },
  {
   "cell_type": "code",
   "execution_count": 4,
   "metadata": {},
   "outputs": [
    {
     "name": "stdout",
     "output_type": "stream",
     "text": [
      "cnt           1.00\n",
      "registered    0.97\n",
      "casual        0.69\n",
      "temp          0.40\n",
      "atemp         0.40\n",
      "hr            0.39\n",
      "instant       0.28\n",
      "yr            0.25\n",
      "season        0.18\n",
      "mnth          0.12\n",
      "windspeed     0.09\n",
      "workingday    0.03\n",
      "weekday       0.03\n",
      "holiday      -0.03\n",
      "weathersit   -0.14\n",
      "hum          -0.32\n",
      "Name: cnt, dtype: float64\n"
     ]
    }
   ],
   "source": [
    "#compute pairwise correlations for each column in bike_rentals\n",
    "full_corrs = bike_rentals.corr()\n",
    "\n",
    "# see how every other column is correlated with cnt\n",
    "cnt_corr = full_corrs['cnt'].sort_values(ascending=False)\n",
    "print(cnt_corr)"
   ]
  },
  {
   "cell_type": "markdown",
   "metadata": {},
   "source": [
    "## Calculating Features"
   ]
  },
  {
   "cell_type": "code",
   "execution_count": 5,
   "metadata": {},
   "outputs": [
    {
     "name": "stdout",
     "output_type": "stream",
     "text": [
      "2    4375\n",
      "3    4368\n",
      "1    4360\n",
      "4    4276\n",
      "Name: time_label, dtype: int64\n"
     ]
    }
   ],
   "source": [
    "#calculating features can enhance the accuracy of the models \n",
    "#by introducing new information\n",
    "\n",
    "#function that takes in a numeric value for hour and assigns a label\n",
    "#based on the hour; '1' if 6-12, '2' if 12-18, '3' if 18-24, '4' if 0-6\n",
    "def assign_label(hr):\n",
    "    \n",
    "    if hr >= 6 and hr < 12:\n",
    "        return 1\n",
    "    elif hr >= 12 and hr < 18: \n",
    "        return 2\n",
    "    elif hr >= 18 and hr < 24: \n",
    "        return 3\n",
    "    elif hr >= 0 and hr < 6:\n",
    "        return 4\n",
    "    else:\n",
    "        return math.nan\n",
    "\n",
    "#applying the function to time_label \n",
    "bike_rentals['time_label'] = bike_rentals['hr'].apply(assign_label)\n",
    "\n",
    "#understanding how many rows correspond to each label\n",
    "print(bike_rentals['time_label'].value_counts())\n"
   ]
  },
  {
   "cell_type": "markdown",
   "metadata": {},
   "source": [
    "## Error Metric"
   ]
  },
  {
   "cell_type": "markdown",
   "metadata": {},
   "source": [
    "Let's use mean squared error to evaluate error in the models. MSE works on continuous numeric data, which is applicable to our target variable, cnt. "
   ]
  },
  {
   "cell_type": "markdown",
   "metadata": {},
   "source": [
    "## Splitting Data into Train and Test Sets"
   ]
  },
  {
   "cell_type": "code",
   "execution_count": 6,
   "metadata": {},
   "outputs": [],
   "source": [
    "#use the dataframe.sample method to select 80% of the rows for training\n",
    "train = bike_rentals.sample(frac=0.8, replace=False)\n",
    "#select rows in bike_rentals that aren't found in train and assign to test set\n",
    "test = bike_rentals.loc[~bike_rentals.index.isin(train.index)]"
   ]
  },
  {
   "cell_type": "code",
   "execution_count": 7,
   "metadata": {},
   "outputs": [
    {
     "name": "stdout",
     "output_type": "stream",
     "text": [
      "['instant', 'season', 'yr', 'mnth', 'hr', 'holiday', 'weekday', 'workingday', 'weathersit', 'temp', 'atemp', 'hum', 'windspeed', 'time_label']\n"
     ]
    }
   ],
   "source": [
    "#finding features, or predictor columns\n",
    "predictors = list(train.columns)\n",
    "predictors.remove(\"cnt\")\n",
    "predictors.remove(\"casual\")\n",
    "predictors.remove(\"registered\")\n",
    "predictors.remove(\"dteday\")\n",
    "#predictors.remove(\"windspeed\")\n",
    "#predictors.remove(\"workingday\")\n",
    "#predictors.remove(\"weekday\")\n",
    "#predictors.remove(\"holiday\")\n",
    "\n",
    "print(predictors)"
   ]
  },
  {
   "cell_type": "markdown",
   "metadata": {},
   "source": [
    "## Linear Regression"
   ]
  },
  {
   "cell_type": "code",
   "execution_count": 8,
   "metadata": {},
   "outputs": [
    {
     "name": "stdout",
     "output_type": "stream",
     "text": [
      "RMSE: 131.29500896572577\n",
      "\n",
      "    cnt  lr_cnt\n",
      "0    16 -112.31\n",
      "5     1  -85.88\n",
      "9    14  115.59\n",
      "15  110  129.07\n",
      "19   37   74.43\n",
      "23   39  121.83\n",
      "24   17  -87.27\n",
      "28    3  -72.08\n",
      "33   53   99.04\n",
      "35   93   87.17\n"
     ]
    }
   ],
   "source": [
    "#instantiate linear Regresssion object\n",
    "lr = LinearRegression(fit_intercept=True, normalize=False)\n",
    "\n",
    "#fit model to training data\n",
    "lr.fit(train[predictors], train['cnt'])\n",
    "\n",
    "#make predictions on test data\n",
    "predictions = lr.predict(test[predictors])\n",
    "\n",
    "#error\n",
    "mse = mean_squared_error(test.cnt, predictions)\n",
    "rmse = np.sqrt(mse)\n",
    "print(\"RMSE: \" + str(rmse) + '\\n')\n",
    "\n",
    "lr_bike_rentals = test.copy()\n",
    "lr_bike_rentals['lr_cnt'] = predictions\n",
    "print(lr_bike_rentals[['cnt','lr_cnt']].head(10))"
   ]
  },
  {
   "cell_type": "markdown",
   "metadata": {},
   "source": [
    "The error with this linear regression model is very high. This is due to the actual rental totals being relatively low, with random high spikes in rental counts. MSE penalizes large errors and thus contributes to a higher total error. "
   ]
  },
  {
   "cell_type": "markdown",
   "metadata": {},
   "source": [
    "## Decision Trees"
   ]
  },
  {
   "cell_type": "code",
   "execution_count": 30,
   "metadata": {},
   "outputs": [
    {
     "name": "stdout",
     "output_type": "stream",
     "text": [
      "RMSE: 49.793759016418775\n",
      "\n"
     ]
    }
   ],
   "source": [
    "treereg = DecisionTreeRegressor(max_depth=100, min_samples_split=40, min_samples_leaf=2)\n",
    "\n",
    "#fit model to train data\n",
    "treereg.fit(train[predictors], train['cnt'])\n",
    "\n",
    "#make predictions on test data \n",
    "predictions = treereg.predict(test[predictors])\n",
    "\n",
    "mse = mean_squared_error(test['cnt'], predictions)\n",
    "rmse = np.sqrt(mse)\n",
    "\n",
    "print(\"RMSE: \" + str(rmse) + '\\n')"
   ]
  },
  {
   "cell_type": "markdown",
   "metadata": {},
   "source": [
    "Decision Trees prove to have much higher accuracy than the Linear Regression model. "
   ]
  },
  {
   "cell_type": "markdown",
   "metadata": {},
   "source": [
    "## Random Forest"
   ]
  },
  {
   "cell_type": "code",
   "execution_count": 56,
   "metadata": {},
   "outputs": [
    {
     "name": "stdout",
     "output_type": "stream",
     "text": [
      "RMSE: 40.96032585041487\n",
      "\n"
     ]
    }
   ],
   "source": [
    "#n_estimators is the number of trees in the forest\n",
    "foreg = RandomForestRegressor(n_estimators= 30, random_state=1, bootstrap=True, max_depth=50, min_samples_split=5, min_samples_leaf=2)\n",
    "\n",
    "#fit model to train data\n",
    "foreg.fit(train[predictors], train['cnt'])\n",
    "\n",
    "#make predictions on test data \n",
    "predictions = foreg.predict(test[predictors])\n",
    "\n",
    "mse = mean_squared_error(test['cnt'], predictions)\n",
    "rmse = np.sqrt(mse)\n",
    "\n",
    "print(\"RMSE: \" + str(rmse) + '\\n')"
   ]
  },
  {
   "cell_type": "markdown",
   "metadata": {},
   "source": [
    "Random Forest improves on Decision Trees, as shown by the marked improvement in RMSE value. They are less prone to overfitting as well. "
   ]
  },
  {
   "cell_type": "code",
   "execution_count": null,
   "metadata": {
    "collapsed": true
   },
   "outputs": [],
   "source": []
  }
 ],
 "metadata": {
  "kernelspec": {
   "display_name": "Python 3",
   "language": "python",
   "name": "python3"
  },
  "language_info": {
   "codemirror_mode": {
    "name": "ipython",
    "version": 3
   },
   "file_extension": ".py",
   "mimetype": "text/x-python",
   "name": "python",
   "nbconvert_exporter": "python",
   "pygments_lexer": "ipython3",
   "version": "3.6.8"
  }
 },
 "nbformat": 4,
 "nbformat_minor": 1
}
